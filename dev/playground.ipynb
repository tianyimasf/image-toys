{
 "cells": [
  {
   "cell_type": "markdown",
   "id": "d70914f8-f9cc-4513-8163-33a51986ca86",
   "metadata": {},
   "source": [
    "# Playground\n",
    "\n",
    "This notebook develops the image toys that will be deployed in the public platform. (website/python package not determined yet). "
   ]
  },
  {
   "cell_type": "markdown",
   "id": "6d7f91d8-3862-48e4-a352-5645f2eeef80",
   "metadata": {},
   "source": [
    "### 1. Background removing\n",
    "\n",
    "Using prebuilt pacakge rembg"
   ]
  },
  {
   "cell_type": "code",
   "execution_count": 4,
   "id": "0bd6abff-8074-4ed2-8764-ff2e8a2f6e42",
   "metadata": {},
   "outputs": [
    {
     "data": {
      "text/plain": [
       "True"
      ]
     },
     "execution_count": 4,
     "metadata": {},
     "output_type": "execute_result"
    }
   ],
   "source": [
    "from rembg import remove\n",
    "import cv2\n",
    "\n",
    "input_path = 'img/original/nobara.jpg'\n",
    "output_path = 'img/processed/nobara.png'\n",
    "\n",
    "input_img = cv2.imread(input_path)\n",
    "output = remove(input_img)\n",
    "cv2.imwrite(output_path, output)"
   ]
  },
  {
   "cell_type": "code",
   "execution_count": null,
   "id": "52d2175e-c51d-404f-b8d2-b0cc386b7010",
   "metadata": {},
   "outputs": [],
   "source": []
  }
 ],
 "metadata": {
  "kernelspec": {
   "display_name": "Python 3 (ipykernel)",
   "language": "python",
   "name": "python3"
  },
  "language_info": {
   "codemirror_mode": {
    "name": "ipython",
    "version": 3
   },
   "file_extension": ".py",
   "mimetype": "text/x-python",
   "name": "python",
   "nbconvert_exporter": "python",
   "pygments_lexer": "ipython3",
   "version": "3.12.3"
  }
 },
 "nbformat": 4,
 "nbformat_minor": 5
}
